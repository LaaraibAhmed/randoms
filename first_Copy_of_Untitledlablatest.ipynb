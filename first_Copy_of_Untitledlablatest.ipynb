{
  "nbformat": 4,
  "nbformat_minor": 0,
  "metadata": {
    "colab": {
      "provenance": [],
      "collapsed_sections": [],
      "include_colab_link": true
    },
    "kernelspec": {
      "name": "python3",
      "display_name": "Python 3"
    },
    "language_info": {
      "name": "python"
    }
  },
  "cells": [
    {
      "cell_type": "markdown",
      "metadata": {
        "id": "view-in-github",
        "colab_type": "text"
      },
      "source": [
        "<a href=\"https://colab.research.google.com/github/LaaraibAhmed/randoms/blob/main/first_Copy_of_Untitledlablatest.ipynb\" target=\"_parent\"><img src=\"https://colab.research.google.com/assets/colab-badge.svg\" alt=\"Open In Colab\"/></a>"
      ]
    },
    {
      "cell_type": "code",
      "execution_count": null,
      "metadata": {
        "id": "zt6cekCLjXTh"
      },
      "outputs": [],
      "source": [
        "import numpy as np\n",
        "from PIL import Image\n",
        "\n",
        "filename='/content/cc.png'\n",
        "im=Image.open(filename)\n",
        "img_arr=np.array(im)\n",
        "x,y=img_arr.shape\n"
      ]
    },
    {
      "cell_type": "code",
      "source": [
        "img_arr[40]"
      ],
      "metadata": {
        "colab": {
          "base_uri": "https://localhost:8080/"
        },
        "id": "jtTFnL2gv9NE",
        "outputId": "8d4fe344-4c98-4df4-f717-26b6b75b853e"
      },
      "execution_count": null,
      "outputs": [
        {
          "output_type": "execute_result",
          "data": {
            "text/plain": [
              "array([  1,   1,   1,   1,   1,   1,   1,   1,   1,   1,   1,   1,   1,\n",
              "         1,   1,   1,   1,   1,   1,   1,   1,   1,   1,   1,   1,   1,\n",
              "         1,   1,   1,   1,   1,   1,   1,   1,   1,   1,   1,   1,   1,\n",
              "         1,   1,   1,   1,   1,   1,   1,   1,   1,   1, 255, 255, 255,\n",
              "       255, 255, 255, 255, 255, 255, 255, 255, 255, 255, 255, 255, 255,\n",
              "       255, 255, 255, 255, 255, 255, 255, 255, 255, 255, 255,   1,   1,\n",
              "         1,   1,   1,   1,   1,   1,   1,   1,   1,   1,   1,   1,   1,\n",
              "         1,   1,   1,   1,   1,   1,   1,   1,   1,   1,   1,   1,   1,\n",
              "         1,   1,   1,   1,   1,   1,   1,   1,   1,   1,   1,   1,   1,\n",
              "         1,   1,   1,   1,   1,   1,   1, 255, 255, 255, 255, 255, 255,\n",
              "       255, 255, 255, 255,   1,   1,   1,   1,   1,   1,   1,   1,   1,\n",
              "         1,   1,   1,   1,   1,   1, 255, 255, 255, 255, 255, 255, 255,\n",
              "       255, 255, 255, 255, 255,   1,   1,   1,   1,   1,   1,   1,   1,\n",
              "         1,   1,   1,   1,   1,   1,   1,   1,   1,   1,   1,   1,   1,\n",
              "         1,   1,   1,   1,   1,   1,   1,   1,   1,   1,   1,   1,   1,\n",
              "         1,   1,   1,   1,   1,   1,   1,   1,   1,   1,   1,   1,   1,\n",
              "         1,   1,   1,   1,   1,   1,   1,   1,   1,   1,   1,   1,   1,\n",
              "         1,   1,   1,   1,   1,   1,   1,   1,   1,   1,   1,   1,   1,\n",
              "         1,   1,   1,   1,   1,   1,   1,   1,   1,   1,   1,   1,   1,\n",
              "         1,   1,   1,   1,   1,   1,   1,   1,   1,   1,   1,   1,   1,\n",
              "         1,   1], dtype=uint8)"
            ]
          },
          "metadata": {},
          "execution_count": 26
        }
      ]
    },
    {
      "cell_type": "code",
      "source": [
        "img_arr[img_arr<=127]=0\n",
        "img_arr[img_arr>127]=1\n",
        "img_arr[40]"
      ],
      "metadata": {
        "colab": {
          "base_uri": "https://localhost:8080/"
        },
        "id": "yHKw2TWJwa3f",
        "outputId": "b51032bb-34ea-4332-b931-83e4333588c9"
      },
      "execution_count": null,
      "outputs": [
        {
          "output_type": "execute_result",
          "data": {
            "text/plain": [
              "array([0, 0, 0, 0, 0, 0, 0, 0, 0, 0, 0, 0, 0, 0, 0, 0, 0, 0, 0, 0, 0, 0,\n",
              "       0, 0, 0, 0, 0, 0, 0, 0, 0, 0, 0, 0, 0, 0, 0, 0, 0, 0, 0, 0, 0, 0,\n",
              "       0, 0, 0, 0, 0, 1, 1, 1, 1, 1, 1, 1, 1, 1, 1, 1, 1, 1, 1, 1, 1, 1,\n",
              "       1, 1, 1, 1, 1, 1, 1, 1, 1, 1, 0, 0, 0, 0, 0, 0, 0, 0, 0, 0, 0, 0,\n",
              "       0, 0, 0, 0, 0, 0, 0, 0, 0, 0, 0, 0, 0, 0, 0, 0, 0, 0, 0, 0, 0, 0,\n",
              "       0, 0, 0, 0, 0, 0, 0, 0, 0, 0, 0, 0, 0, 0, 1, 1, 1, 1, 1, 1, 1, 1,\n",
              "       1, 1, 0, 0, 0, 0, 0, 0, 0, 0, 0, 0, 0, 0, 0, 0, 0, 1, 1, 1, 1, 1,\n",
              "       1, 1, 1, 1, 1, 1, 1, 0, 0, 0, 0, 0, 0, 0, 0, 0, 0, 0, 0, 0, 0, 0,\n",
              "       0, 0, 0, 0, 0, 0, 0, 0, 0, 0, 0, 0, 0, 0, 0, 0, 0, 0, 0, 0, 0, 0,\n",
              "       0, 0, 0, 0, 0, 0, 0, 0, 0, 0, 0, 0, 0, 0, 0, 0, 0, 0, 0, 0, 0, 0,\n",
              "       0, 0, 0, 0, 0, 0, 0, 0, 0, 0, 0, 0, 0, 0, 0, 0, 0, 0, 0, 0, 0, 0,\n",
              "       0, 0, 0, 0, 0, 0, 0, 0, 0, 0, 0, 0, 0, 0, 0, 0, 0, 0, 0, 0],\n",
              "      dtype=uint8)"
            ]
          },
          "metadata": {},
          "execution_count": 27
        }
      ]
    },
    {
      "cell_type": "code",
      "source": [
        "newimg=np.zeros((x,y))\n",
        "obj=1\n",
        "for passes in range(2):\n",
        "  for dimy in range(y):\n",
        "    for dimx in range(x):\n",
        "      #check for 0,0 pixel\n",
        "      if(dimy==0 and dimx==0 and img_arr[dimx][dimy]==0):\n",
        "        newimg[dimx][dimy]=0\n",
        "      elif(dimy==0 and dimx==0 and img_arr[dimx][dimy]!=0):\n",
        "        newimg[dimx][dimy]=obj\n",
        "        obj+=1\n",
        "      if(dimy==0 and dimx!=0):\n",
        "        if(img_arr[dimx][0]!=0 and newimg[dimx-1][0]!=0):\n",
        "          newimg[dimx][0]=newimg[dimx-1][0]\n",
        "        elif(img_arr[dimx][0]!=0 and newimg[dimx-1][0]==0):\n",
        "           newimg[dimx][0]=obj\n",
        "           obj+=1\n",
        "      elif(dimx==0 and dimy!=0):\n",
        "        if(img_arr[0][dimy]!=0 and newimg[0][dimy-1]!=0):\n",
        "          newimg[0][dimy]=newimg[0][dimy-1]\n",
        "        elif(img_arr[0][dimy]!=0 and newimg[0][dimy-1]==0):\n",
        "           newimg[0][dimy]=obj\n",
        "           obj+=1\n",
        "      elif(dimx!=0 and dimy!=0):\n",
        "        if(img_arr[dimx][dimy]!=0):\n",
        "          if(newimg[dimx-1][dimy]==0 and newimg[dimx][dimy-1]==0):\n",
        "            newimg[dimx][dimy]=obj\n",
        "            obj+=1\n",
        "          elif(newimg[dimx-1][dimy]>=1 and newimg[dimx][dimy-1]==0):\n",
        "            newimg[dimx][dimy]=newimg[dimx-1][dimy]\n",
        "          elif(newimg[dimx-1][dimy]==0 and newimg[dimx][dimy-1]>=1):\n",
        "            newimg[dimx][dimy]=newimg[dimx][dimy-1]\n",
        "          elif(newimg[dimx-1][dimy]>=1 and newimg[dimx][dimy-1]>=1):\n",
        "            newimg[dimx][dimy]=newimg[dimx-1][dimy]#take left value\n",
        "  if(passes==1):\n",
        "    continue\n",
        "  else:\n",
        "    obj=1\n",
        "    img_arr=newimg\n",
        "    newimg=np.zeros((x,y))\n",
        "obj"
      ],
      "metadata": {
        "id": "_ihFbOIVv7yd",
        "outputId": "9261b265-f0c9-4eb4-e21e-6c0e9789724c",
        "colab": {
          "base_uri": "https://localhost:8080/"
        }
      },
      "execution_count": null,
      "outputs": [
        {
          "output_type": "execute_result",
          "data": {
            "text/plain": [
              "125"
            ]
          },
          "metadata": {},
          "execution_count": 28
        }
      ]
    },
    {
      "cell_type": "code",
      "source": [],
      "metadata": {
        "colab": {
          "base_uri": "https://localhost:8080/"
        },
        "id": "6JNNyxIR4dW9",
        "outputId": "06e15c67-3217-4c15-e75c-3fa73efa6153"
      },
      "execution_count": null,
      "outputs": [
        {
          "output_type": "execute_result",
          "data": {
            "text/plain": [
              "array([0., 0., 0., 0., 0., 0., 0., 0., 0., 0., 0., 0., 0., 0., 0., 0., 0.,\n",
              "       0., 0., 0., 0., 0., 0., 0., 0., 0., 0., 0., 0., 0., 0., 0., 0., 0.,\n",
              "       0., 0., 0., 0., 0., 0., 0., 0., 0., 0., 0., 0., 0., 0., 0., 0., 0.,\n",
              "       0., 0., 0., 0., 0., 0., 0., 0., 0., 0., 0., 0., 0., 0., 0., 0., 0.,\n",
              "       0., 0., 0., 0., 0., 0., 0., 0., 0., 0., 0., 0., 0., 0., 0., 0., 0.,\n",
              "       0., 0., 0., 0., 0., 0., 0., 0., 0., 0., 0., 0., 0., 0., 0., 0., 0.,\n",
              "       0., 0., 0., 0., 0., 0., 0., 0., 0., 0., 0., 0., 0., 0., 0., 0., 0.,\n",
              "       0., 0., 0., 0., 0., 0., 0., 0., 0., 0., 0., 0., 0., 0., 0., 0., 0.,\n",
              "       0., 0., 0., 0., 0., 0., 0., 0., 0., 0., 0., 0., 0., 0., 0., 0., 0.,\n",
              "       0., 0., 0., 0., 0., 0., 0., 0., 0., 0., 0., 0., 0., 0., 0., 0., 0.,\n",
              "       0., 0., 0., 0., 0., 0., 0., 0., 0., 0., 0., 0., 0., 0., 0., 0., 0.,\n",
              "       0., 0., 0., 0., 0., 0., 0., 0., 0., 0., 0., 0., 0., 0., 0., 0., 0.,\n",
              "       0., 0., 0., 0., 0., 0., 0., 0., 0., 0., 0., 0., 0., 0., 0., 0., 0.,\n",
              "       0., 0., 0., 0., 0., 0., 0., 0., 0., 0., 0., 0., 0., 0., 0., 0., 0.,\n",
              "       0., 0., 0., 0., 0., 0., 0., 0., 0., 0., 0., 0., 0., 0., 0., 0., 0.,\n",
              "       0., 0., 0., 0., 0., 0., 0.])"
            ]
          },
          "metadata": {},
          "execution_count": 29
        }
      ]
    },
    {
      "cell_type": "code",
      "source": [
        "newimg[newimg>0]=255\n",
        "newimg[newimg==0]=1\n",
        "final=Image.fromarray(np.uint8(newimg))\n",
        "final"
      ],
      "metadata": {
        "colab": {
          "base_uri": "https://localhost:8080/",
          "height": 226
        },
        "id": "xScAbFSw3JA7",
        "outputId": "c003d8e6-07ce-4edf-c8d5-3b85e5cb1204"
      },
      "execution_count": null,
      "outputs": [
        {
          "output_type": "execute_result",
          "data": {
            "text/plain": [
              "<PIL.Image.Image image mode=L size=262x209 at 0x7FE74913F610>"
            ],
            "image/png": "[encoded data removed]"
          },
          "metadata": {},
          "execution_count": 30
        }
      ]
    }
  ]
}